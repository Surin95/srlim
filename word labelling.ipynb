{
 "cells": [
  {
   "cell_type": "markdown",
   "metadata": {},
   "source": [
    "## 단어 자동 분류기"
   ]
  },
  {
   "cell_type": "code",
   "execution_count": null,
   "metadata": {},
   "outputs": [],
   "source": [
    "import pandas as pd\n",
    "import numpy as np\n",
    "import math"
   ]
  },
  {
   "cell_type": "markdown",
   "metadata": {},
   "source": [
    "### 1. 데이터 불러 들이기 "
   ]
  },
  {
   "cell_type": "code",
   "execution_count": null,
   "metadata": {},
   "outputs": [],
   "source": [
    "data = pd.read_csv(\"3500fortext.csv\").dropna(axis = 0) ### 따옴표 안에는 너가 불러올 데이터파일의 이름을 .csv 형태로 입력하면 됨\n",
    "\n",
    "n_para = len(data) # 문단 갯수\n",
    "\n",
    "ls_sent = []\n",
    "for i in range(n_para):\n",
    "    ls_sent.append(len(data['paragraph'][i].split('. ')))\n",
    "\n",
    "n_sent = sum(ls_sent) # 문장 갯수"
   ]
  },
  {
   "cell_type": "markdown",
   "metadata": {},
   "source": [
    "### 2. 문장으로 나누기"
   ]
  },
  {
   "cell_type": "code",
   "execution_count": null,
   "metadata": {},
   "outputs": [],
   "source": [
    "sent = pd.DataFrame()\n",
    "for i in range(n_para):\n",
    "    sent = sent.append(pd.DataFrame(data['paragraph'][i].split('. ')))\n",
    "sent.reset_index(drop = True)"
   ]
  },
  {
   "cell_type": "markdown",
   "metadata": {},
   "source": [
    "### 3. 단어로 나누기"
   ]
  },
  {
   "cell_type": "code",
   "execution_count": null,
   "metadata": {},
   "outputs": [],
   "source": [
    "ls_word = []\n",
    "for i in range(n_sent):\n",
    "    ls_word.append(len(sent.iloc[i,0].split(' ')))\n",
    "\n",
    "p = max(ls_word) # 문장 내 단어 최대 갯수\n",
    "\n",
    "df = pd.DataFrame(np.nan, index = np.arange(2*n_sent), columns = np.arange(p))\n",
    "\n",
    "for i in range(n_sent):\n",
    "    for j in range(p):\n",
    "        if j<len(sent.iloc[i,0].split(' ')):\n",
    "            df.iloc[2*i,j] = sent.iloc[i,0].split(' ')[j]\n",
    "        else: df.iloc[2*i,j] = np.nan\n",
    "            \n",
    "n = len(df)             "
   ]
  },
  {
   "cell_type": "markdown",
   "metadata": {},
   "source": [
    "### 4. 라벨링"
   ]
  },
  {
   "cell_type": "code",
   "execution_count": null,
   "metadata": {},
   "outputs": [],
   "source": [
    "### 거기에서 정해준 라벨 리스트를 [] 안에다가 그대로 복붙해서 넣어! 예시) o = ['a','the'] \n",
    "\n",
    "o = []\n",
    "\n",
    "mp = [] \n",
    "\n",
    "ds = [] \n",
    "\n",
    "da = [] \n",
    "\n",
    "pp = [] \n",
    "\n",
    "pc = []   \n",
    "\n",
    "pv = []\n",
    "\n",
    "pr = [] \n",
    "\n",
    "po = []  \n",
    "\n",
    "ps = []   \n",
    "\n",
    "pe = []  \n",
    "\n",
    "pre = []   \n",
    "\n",
    "pab = []    \n",
    "\n",
    "plec = []     \n",
    "\n",
    "mc = []     \n",
    "\n",
    "e = []      \n",
    "\n",
    "s = []    \n",
    "\n",
    "d = []\n",
    "\n",
    "def isNaN(string):\n",
    "    return string != string\n",
    "\n",
    "for i in range(int(n/2)):\n",
    "    for j in range(p):\n",
    "        if ((df.iloc[2*i,j] not in o) and (df.iloc[2*i,j] not in mp) and (df.iloc[2*i,j] not in ds) \n",
    "            and (df.iloc[2*i,j] not in da) and (df.iloc[2*i,j] not in pp) and (df.iloc[2*i,j] not in pc) \n",
    "            and (df.iloc[2*i,j] not in pv) and (df.iloc[2*i,j] not in pr) and (df.iloc[2*i,j] not in po) \n",
    "            and (df.iloc[2*i,j] not in ps) and (df.iloc[2*i,j] not in pe) and (df.iloc[2*i,j] not in pre) \n",
    "            and (df.iloc[2*i,j] not in pab) and (df.iloc[2*i,j] not in plec) and (df.iloc[2*i,j] not in mc) \n",
    "            and (df.iloc[2*i,j] not in e) and (df.iloc[2*i,j] not in s) and (df.iloc[2*i,j] not in d) \n",
    "            and isNaN(df.iloc[2*i,j]) != True):df.iloc[2*i+1,j] = 'o' \n",
    "        elif (df.iloc[2*i,j] in mp) and isNaN(df.iloc[2*i,j]) != True:\n",
    "            df.iloc[2*i+1,j] = 'B-o-mp-o'\n",
    "        elif (df.iloc[2*i,j] in ds) and isNaN(df.iloc[2*i,j]) != True:\n",
    "            df.iloc[2*i+1,j] = 'B-o-ds-o'\n",
    "        elif (df.iloc[2*i,j] in da) and isNaN(df.iloc[2*i,j]) != True:\n",
    "            df.iloc[2*i+1,j] = 'B-o-da-o'\n",
    "        elif (df.iloc[2*i,j] in pp) and isNaN(df.iloc[2*i,j]) != True:\n",
    "            df.iloc[2*i+1,j] = 'B-o-pp-o'\n",
    "        elif (df.iloc[2*i,j] in pc) and isNaN(df.iloc[2*i,j]) != True:\n",
    "            df.iloc[2*i+1,j] = 'B-o-pc-o'\n",
    "        elif (df.iloc[2*i,j] in pv) and isNaN(df.iloc[2*i,j]) != True:\n",
    "            df.iloc[2*i+1,j] = 'B-o-pv-o'\n",
    "        elif (df.iloc[2*i,j] in pr) and isNaN(df.iloc[2*i,j]) != True:\n",
    "            df.iloc[2*i+1,j] = 'B-o-pr-o'\n",
    "        elif (df.iloc[2*i,j] in po) and isNaN(df.iloc[2*i,j]) != True:\n",
    "            df.iloc[2*i+1,j] = 'B-o-po-o'\n",
    "        elif (df.iloc[2*i,j] in ps) and isNaN(df.iloc[2*i,j]) != True:\n",
    "            df.iloc[2*i+1,j] = 'B-o-ps-o'\n",
    "        elif (df.iloc[2*i,j] in pe) and isNaN(df.iloc[2*i,j]) != True:\n",
    "            df.iloc[2*i+1,j] = 'B-o-pe-o'\n",
    "        elif (df.iloc[2*i,j] in pre) and isNaN(df.iloc[2*i,j]) != True:\n",
    "            df.iloc[2*i+1,j] = 'B-o-pre-o'\n",
    "        elif (df.iloc[2*i,j] in pab) and isNaN(df.iloc[2*i,j]) != True:\n",
    "            df.iloc[2*i+1,j] = 'B-o-pab-o'\n",
    "        elif (df.iloc[2*i,j] in plec) and isNaN(df.iloc[2*i,j]) != True:\n",
    "            df.iloc[2*i+1,j] = 'B-o-plec-o'\n",
    "        elif (df.iloc[2*i,j] in mc) and isNaN(df.iloc[2*i,j]) != True:\n",
    "            df.iloc[2*i+1,j] = 'B-o-mc-o'\n",
    "        elif (df.iloc[2*i,j] in e) and isNaN(df.iloc[2*i,j]) != True:\n",
    "            df.iloc[2*i+1,j] = 'B-o-e-o'\n",
    "        elif (df.iloc[2*i,j] in s) and isNaN(df.iloc[2*i,j]) != True:\n",
    "            df.iloc[2*i+1,j] = 'B-o-s-o'\n",
    "        elif (df.iloc[2*i,j] in d) and isNaN(df.iloc[2*i,j]) != True:\n",
    "            df.iloc[2*i+1,j] = 'B-o-d-o'"
   ]
  },
  {
   "cell_type": "markdown",
   "metadata": {},
   "source": [
    "### 5. ,나 .으로 끝나는 단어들 처리"
   ]
  },
  {
   "cell_type": "code",
   "execution_count": null,
   "metadata": {},
   "outputs": [],
   "source": [
    "for i in range(int(n/2)):\n",
    "    for j in range(p):\n",
    "        if type(df.iloc[2*i,j]) == str and df.iloc[2*i,j][-1] == (',' or '.') :\n",
    "            if (df.iloc[2*i,j][:-1] in mp) and isNaN(df.iloc[2*i,j]) != True:\n",
    "                df.iloc[2*i+1,j] = 'B-o-mp-o'\n",
    "            elif (df.iloc[2*i,j][:-1] in ds) and isNaN(df.iloc[2*i,j]) != True:\n",
    "                df.iloc[2*i+1,j] = 'B-o-ds-o'\n",
    "            elif (df.iloc[2*i,j][:-1] in da) and isNaN(df.iloc[2*i,j]) != True:\n",
    "                df.iloc[2*i+1,j] = 'B-o-da-o'\n",
    "            elif (df.iloc[2*i,j][:-1] in pp) and isNaN(df.iloc[2*i,j]) != True:\n",
    "                df.iloc[2*i+1,j] = 'B-o-pp-o'\n",
    "            elif (df.iloc[2*i,j][:-1] in pc) and isNaN(df.iloc[2*i,j]) != True:\n",
    "                df.iloc[2*i+1,j] = 'B-o-pc-o'\n",
    "            elif (df.iloc[2*i,j][:-1] in pv) and isNaN(df.iloc[2*i,j]) != True:\n",
    "                df.iloc[2*i+1,j] = 'B-o-pv-o'\n",
    "            elif (df.iloc[2*i,j][:-1] in pr) and isNaN(df.iloc[2*i,j]) != True:\n",
    "                df.iloc[2*i+1,j] = 'B-o-pr-o'\n",
    "            elif (df.iloc[2*i,j][:-1] in po) and isNaN(df.iloc[2*i,j]) != True:\n",
    "                df.iloc[2*i+1,j] = 'B-o-po-o'\n",
    "            elif (df.iloc[2*i,j][:-1] in ps) and isNaN(df.iloc[2*i,j]) != True:\n",
    "                df.iloc[2*i+1,j] = 'B-o-ps-o'\n",
    "            elif (df.iloc[2*i,j][:-1] in pe) and isNaN(df.iloc[2*i,j]) != True:\n",
    "                df.iloc[2*i+1,j] = 'B-o-pe-o'\n",
    "            elif (df.iloc[2*i,j][:-1] in pre) and isNaN(df.iloc[2*i,j]) != True:\n",
    "                df.iloc[2*i+1,j] = 'B-o-pre-o'\n",
    "            elif (df.iloc[2*i,j][:-1] in pab) and isNaN(df.iloc[2*i,j]) != True:\n",
    "                df.iloc[2*i+1,j] = 'B-o-pab-o'\n",
    "            elif (df.iloc[2*i,j][:-1] in plec) and isNaN(df.iloc[2*i,j]) != True:\n",
    "                df.iloc[2*i+1,j] = 'B-o-plec-o'\n",
    "            elif (df.iloc[2*i,j][:-1] in mc) and isNaN(df.iloc[2*i,j]) != True:\n",
    "                df.iloc[2*i+1,j] = 'B-o-mc-o'\n",
    "            elif (df.iloc[2*i,j][:-1] in e) and isNaN(df.iloc[2*i,j]) != True:\n",
    "                df.iloc[2*i+1,j] = 'B-o-e-o'\n",
    "            elif (df.iloc[2*i,j][:-1] in s) and isNaN(df.iloc[2*i,j]) != True:\n",
    "                df.iloc[2*i+1,j] = 'B-o-s-o'\n",
    "            elif (df.iloc[2*i,j][:-1] in d) and isNaN(df.iloc[2*i,j]) != True:\n",
    "                df.iloc[2*i+1,j] = 'B-o-d-o' "
   ]
  },
  {
   "cell_type": "markdown",
   "metadata": {},
   "source": [
    "### 6. 'B-'가 연속으로 나타나면 두번째부터는 'I-'로 변경 "
   ]
  },
  {
   "cell_type": "code",
   "execution_count": null,
   "metadata": {},
   "outputs": [],
   "source": [
    "for i in range(int(n/2)):\n",
    "    for j in range(1,p)[::-1]:\n",
    "        if (j>=3 and type(df.iloc[2*i+1, j-3]) == type(df.iloc[2*i+1, j-2]) == \n",
    "            type(df.iloc[2*i+1, j-1]) == type(df.iloc[2*i+1, j]) == str):\n",
    "            # 4개 연속\n",
    "            if (df.iloc[2*i+1,j-3].startswith('B-') and df.iloc[2*i+1,j-2].startswith('B-') and \n",
    "                df.iloc[2*i+1,j-1].startswith('B-') and df.iloc[2*i+1,j].startswith('B-')):\n",
    "                    df.iloc[2*i+1,j] = df.iloc[2*i+1,j].replace('B-','I-') \n",
    "                    df.iloc[2*i+1,j-1] = df.iloc[2*i+1,j-1].replace('B-','I-') \n",
    "                    df.iloc[2*i+1,j-2] = df.iloc[2*i+1,j-2].replace('B-','I-') \n",
    "            # 3개 연속\n",
    "            if (df.iloc[2*i+1,j-2].startswith('B-') and df.iloc[2*i+1,j-1].startswith('B-') and \n",
    "                df.iloc[2*i+1,j].startswith('B-')):\n",
    "                    df.iloc[2*i+1,j] = df.iloc[2*i+1,j].replace('B-','I-') \n",
    "                    df.iloc[2*i+1,j-1] = df.iloc[2*i+1,j-1].replace('B-','I-') \n",
    "            # 2개 연속\n",
    "            elif (type(df.iloc[2*i+1, j-1]) == type(df.iloc[2*i+1, j]) == str):\n",
    "                if (df.iloc[2*i+1,j-1].startswith('B-') and df.iloc[2*i+1,j].startswith('B-')):\n",
    "                    df.iloc[2*i+1,j] = df.iloc[2*i+1,j].replace('B-','I-')    \n",
    "        elif (j>=2 and type(df.iloc[2*i+1, j-2]) == type(df.iloc[2*i+1, j-1]) == type(df.iloc[2*i+1, j]) == str):\n",
    "            # 3개 연속\n",
    "            if (df.iloc[2*i+1,j-2].startswith('B-') and df.iloc[2*i+1,j-1].startswith('B-') and \n",
    "                df.iloc[2*i+1,j].startswith('B-')):\n",
    "                    df.iloc[2*i+1,j] = df.iloc[2*i+1,j].replace('B-','I-') \n",
    "                    df.iloc[2*i+1,j-1] = df.iloc[2*i+1,j-1].replace('B-','I-') \n",
    "            # 2개 연속\n",
    "            elif (type(df.iloc[2*i+1, j-1]) == type(df.iloc[2*i+1, j]) == str):\n",
    "                if (df.iloc[2*i+1,j-1].startswith('B-') and df.iloc[2*i+1,j].startswith('B-')):\n",
    "                    df.iloc[2*i+1,j] = df.iloc[2*i+1,j].replace('B-','I-')        \n",
    "        elif type(df.iloc[2*i+1, j-1]) == type(df.iloc[2*i+1, j]) == str:\n",
    "            if (df.iloc[2*i+1,j-1].startswith('B-') and df.iloc[2*i+1,j].startswith('B-')):\n",
    "                    df.iloc[2*i+1,j] = df.iloc[2*i+1,j].replace('B-','I-')                  \n",
    "                \n",
    "           \n"
   ]
  },
  {
   "cell_type": "markdown",
   "metadata": {},
   "source": [
    "### 7. 결과 저장 "
   ]
  },
  {
   "cell_type": "code",
   "execution_count": null,
   "metadata": {},
   "outputs": [],
   "source": [
    "df.to_csv(\"3500result.csv\") ### 따옴표 안에는 너가 결과파일로 내보낼 파일의 이름을 .csv 형태로 입력하면 됨    "
   ]
  }
 ],
 "metadata": {
  "kernelspec": {
   "display_name": "Python 3",
   "language": "python",
   "name": "python3"
  },
  "language_info": {
   "codemirror_mode": {
    "name": "ipython",
    "version": 3
   },
   "file_extension": ".py",
   "mimetype": "text/x-python",
   "name": "python",
   "nbconvert_exporter": "python",
   "pygments_lexer": "ipython3",
   "version": "3.8.3"
  }
 },
 "nbformat": 4,
 "nbformat_minor": 5
}
